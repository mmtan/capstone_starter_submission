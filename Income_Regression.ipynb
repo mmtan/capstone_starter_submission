{
 "cells": [
  {
   "cell_type": "markdown",
   "metadata": {},
   "source": [
    "# Load in the DataFrame"
   ]
  },
  {
   "cell_type": "code",
   "execution_count": 204,
   "metadata": {},
   "outputs": [],
   "source": [
    "import pandas as pd\n",
    "import numpy as np\n",
    "from matplotlib import pyplot as plt\n",
    "import pandas as pd\n",
    "\n",
    "#Create your df here:\n",
    "df = pd.read_csv(\"profiles.csv\")"
   ]
  },
  {
   "cell_type": "markdown",
   "metadata": {},
   "source": [
    "# Explore the data"
   ]
  },
  {
   "cell_type": "code",
   "execution_count": 205,
   "metadata": {
    "scrolled": true
   },
   "outputs": [
    {
     "data": {
      "text/plain": [
       "Index(['age', 'body_type', 'diet', 'drinks', 'drugs', 'education', 'essay0',\n",
       "       'essay1', 'essay2', 'essay3', 'essay4', 'essay5', 'essay6', 'essay7',\n",
       "       'essay8', 'essay9', 'ethnicity', 'height', 'income', 'job',\n",
       "       'last_online', 'location', 'offspring', 'orientation', 'pets',\n",
       "       'religion', 'sex', 'sign', 'smokes', 'speaks', 'status'],\n",
       "      dtype='object')"
      ]
     },
     "execution_count": 205,
     "metadata": {},
     "output_type": "execute_result"
    }
   ],
   "source": [
    "df.columns"
   ]
  },
  {
   "cell_type": "code",
   "execution_count": 206,
   "metadata": {
    "scrolled": true
   },
   "outputs": [
    {
     "data": {
      "text/plain": [
       "-1          48442\n",
       " 20000       2952\n",
       " 100000      1621\n",
       " 80000       1111\n",
       " 30000       1048\n",
       " 40000       1005\n",
       " 50000        975\n",
       " 60000        736\n",
       " 70000        707\n",
       " 150000       631\n",
       " 1000000      521\n",
       " 250000       149\n",
       " 500000        48\n",
       "Name: income, dtype: int64"
      ]
     },
     "execution_count": 206,
     "metadata": {},
     "output_type": "execute_result"
    }
   ],
   "source": [
    "df.income.value_counts()"
   ]
  },
  {
   "cell_type": "markdown",
   "metadata": {},
   "source": [
    "# Predict income with some combination of drinking_habit, job_status, gender, age, average length of essays, and education_level?"
   ]
  },
  {
   "cell_type": "markdown",
   "metadata": {},
   "source": [
    "# Augment Data"
   ]
  },
  {
   "cell_type": "code",
   "execution_count": 207,
   "metadata": {},
   "outputs": [],
   "source": [
    "gender_mapping= {\"m\": 0, \"f\": 1}\n",
    "df[\"gender_code\"] = df.sex.map(gender_mapping)"
   ]
  },
  {
   "cell_type": "code",
   "execution_count": 208,
   "metadata": {},
   "outputs": [],
   "source": [
    "essay_cols = [\"essay0\",\"essay1\",\"essay2\",\"essay3\",\"essay4\",\n",
    "              \"essay5\",\"essay6\",\"essay7\",\"essay8\",\"essay9\"]\n",
    "# removing the nan  in essay_cols\n",
    "df[essay_cols] = df[essay_cols].replace(np.nan, '', regex=True)"
   ]
  },
  {
   "cell_type": "code",
   "execution_count": 209,
   "metadata": {},
   "outputs": [],
   "source": [
    "# combine the essays\n",
    "all_essays = df[essay_cols].apply(lambda x: ' '.join(x), axis=1)\n",
    "# create a column to store the average length of essays\n",
    "df['essay_ave_len'] = all_essays.apply(lambda x: len(x)/len(essay_cols))\n"
   ]
  },
  {
   "cell_type": "markdown",
   "metadata": {},
   "source": [
    "# Group locations by states"
   ]
  },
  {
   "cell_type": "code",
   "execution_count": 210,
   "metadata": {
    "scrolled": true
   },
   "outputs": [],
   "source": [
    "df['location_by_state'] = df.location.apply(lambda x: x.split(',')[1])"
   ]
  },
  {
   "cell_type": "code",
   "execution_count": 211,
   "metadata": {
    "scrolled": true
   },
   "outputs": [
    {
     "data": {
      "text/plain": [
       " california              59855\n",
       " new york                   17\n",
       " illinois                    8\n",
       " massachusetts               5\n",
       " texas                       4\n",
       " michigan                    4\n",
       " oregon                      4\n",
       " florida                     3\n",
       " arizona                     3\n",
       " minnesota                   2\n",
       " colorado                    2\n",
       " washington                  2\n",
       " united kingdom              2\n",
       " district of columbia        2\n",
       " hawaii                      2\n",
       " virginia                    2\n",
       " ohio                        2\n",
       " utah                        2\n",
       " georgia                     2\n",
       " spain                       2\n",
       " connecticut                 1\n",
       " missouri                    1\n",
       " nevada                      1\n",
       " tennessee                   1\n",
       " idaho                       1\n",
       " mexico                      1\n",
       " west virginia               1\n",
       " germany                     1\n",
       " british columbia            1\n",
       " montana                     1\n",
       " wisconsin                   1\n",
       " pennsylvania                1\n",
       " new jersey                  1\n",
       " switzerland                 1\n",
       " netherlands                 1\n",
       " rhode island                1\n",
       " mississippi                 1\n",
       " north carolina              1\n",
       " vietnam                     1\n",
       " louisiana                   1\n",
       " ireland                     1\n",
       "Name: location_by_state, dtype: int64"
      ]
     },
     "execution_count": 211,
     "metadata": {},
     "output_type": "execute_result"
    }
   ],
   "source": [
    "df.location_by_state.value_counts()"
   ]
  },
  {
   "cell_type": "code",
   "execution_count": 212,
   "metadata": {},
   "outputs": [],
   "source": [
    "states=df.location_by_state.unique()"
   ]
  },
  {
   "cell_type": "code",
   "execution_count": 213,
   "metadata": {},
   "outputs": [],
   "source": [
    "states_mapping={state:i for i,state in enumerate(states)}"
   ]
  },
  {
   "cell_type": "code",
   "execution_count": 214,
   "metadata": {},
   "outputs": [],
   "source": [
    "df[\"state_code\"] = df.location_by_state.map(states_mapping)"
   ]
  },
  {
   "cell_type": "markdown",
   "metadata": {},
   "source": [
    "# Define Job Status\n",
    "\n",
    "We will categorise job status to the following groups: \n",
    "* unemployed\n",
    "* student\n",
    "* retired\n",
    "* military\n",
    "* employed"
   ]
  },
  {
   "cell_type": "code",
   "execution_count": 215,
   "metadata": {},
   "outputs": [],
   "source": [
    "employed=[x for x in df.job.values if x not in \n",
    "           ['unemployed', 'student', 'retired', 'military']]"
   ]
  },
  {
   "cell_type": "code",
   "execution_count": 216,
   "metadata": {},
   "outputs": [],
   "source": [
    "job_mapping= {'unemployed':0, 'student':1, 'retired':2, 'military': 3}\n",
    "for x in employed: \n",
    "    job_mapping[x]=4\n",
    "df[\"job_status_code\"] = df.job.map(job_mapping)"
   ]
  },
  {
   "cell_type": "markdown",
   "metadata": {},
   "source": [
    "# Define Education levels\n",
    "\n",
    "We will regroup education levels to the following categories: \n",
    "* Post graduate degree\n",
    "* College graduate  \n",
    "* law_or_med_school\n",
    "* Some college            \n",
    "* High school\n",
    "* less_than_high_school"
   ]
  },
  {
   "cell_type": "code",
   "execution_count": 217,
   "metadata": {},
   "outputs": [],
   "source": [
    "post_graduate=['graduated from masters program', \n",
    "              'graduated from ph.d program',\n",
    "               'masters program', \n",
    "               'ph.d program',\n",
    "              ]"
   ]
  },
  {
   "cell_type": "code",
   "execution_count": 218,
   "metadata": {},
   "outputs": [],
   "source": [
    "college_graduate=['graduated from college/university',\n",
    "                  'working on masters program',\n",
    "                  'graduated from two-year college',\n",
    "                  'working on ph.d program',\n",
    "                  'dropped out of masters program',\n",
    "                  'dropped out of ph.d program',\n",
    "                  'college/university'\n",
    "                 ]"
   ]
  },
  {
   "cell_type": "code",
   "execution_count": 219,
   "metadata": {},
   "outputs": [],
   "source": [
    "law_or_med_school=[ 'graduated from law school',\n",
    "                   'graduated from med school', \n",
    "                  ]"
   ]
  },
  {
   "cell_type": "code",
   "execution_count": 220,
   "metadata": {},
   "outputs": [],
   "source": [
    "some_college=['working on college/university',\n",
    "             'working on two-year college',\n",
    "              'working on law school',\n",
    "              'two-year college',\n",
    "              'working on med school'\n",
    "              , 'law school',\n",
    "              'med school'\n",
    "             ]"
   ]
  },
  {
   "cell_type": "code",
   "execution_count": 221,
   "metadata": {},
   "outputs": [],
   "source": [
    "high_school=['graduated from high school',\n",
    "                    'dropped out of college/university',\n",
    "                    \n",
    "                     'dropped out of two-year college',\n",
    "            \n",
    "                     'high school',\n",
    "                     \n",
    "                     \n",
    "                     'dropped out of law school',\n",
    "                     'dropped out of med school'\n",
    "                     \n",
    "                    ]"
   ]
  },
  {
   "cell_type": "code",
   "execution_count": 222,
   "metadata": {},
   "outputs": [],
   "source": [
    "less_than_high_school=['graduated from space camp',\n",
    "                     'dropped out of space camp',\n",
    "                     'working on space camp',\n",
    "                      'dropped out of high school',\n",
    "                       'working on high school',\n",
    "                       'space camp'\n",
    "                      ]"
   ]
  },
  {
   "cell_type": "code",
   "execution_count": 223,
   "metadata": {},
   "outputs": [],
   "source": [
    "education_mapping = {}\n",
    "for x in post_graduate: \n",
    "    education_mapping[x]=5\n",
    "for x in law_or_med_school: \n",
    "    education_mapping[x]=4     \n",
    "for x in college_graduate: \n",
    "    education_mapping[x]=3 \n",
    "for x in some_college:\n",
    "    education_mapping[x]=2\n",
    "for x in high_school: \n",
    "    education_mapping[x]=1\n",
    "for x in less_than_high_school: \n",
    "    education_mapping[x]=0"
   ]
  },
  {
   "cell_type": "code",
   "execution_count": 224,
   "metadata": {},
   "outputs": [],
   "source": [
    "df[\"education_level\"] = df.education.map(education_mapping)"
   ]
  },
  {
   "cell_type": "code",
   "execution_count": 225,
   "metadata": {},
   "outputs": [
    {
     "data": {
      "text/plain": [
       "3.0    29224\n",
       "5.0    10395\n",
       "2.0     7519\n",
       "1.0     2740\n",
       "0.0     1872\n",
       "4.0     1568\n",
       "Name: education_level, dtype: int64"
      ]
     },
     "execution_count": 225,
     "metadata": {},
     "output_type": "execute_result"
    }
   ],
   "source": [
    "df.education_level.value_counts()"
   ]
  },
  {
   "cell_type": "markdown",
   "metadata": {},
   "source": [
    "# Define drink mapping"
   ]
  },
  {
   "cell_type": "code",
   "execution_count": 226,
   "metadata": {},
   "outputs": [],
   "source": [
    "drink_mapping = {\"not at all\": 0, \"rarely\": 1, \"socially\": 2, \"often\": 3, \"very often\": 4, \"desperately\": 5}\n",
    "df[\"drinks_code\"] = df.drinks.map(drink_mapping)"
   ]
  },
  {
   "cell_type": "markdown",
   "metadata": {},
   "source": [
    "# Drop NA"
   ]
  },
  {
   "cell_type": "code",
   "execution_count": 227,
   "metadata": {},
   "outputs": [],
   "source": [
    "all_data=df.dropna(subset=['drinks_code', 'job_status_code','height',\n",
    "                           'gender_code','age','education_level',\n",
    "                           'essay_ave_len', 'income', 'location_by_state'])"
   ]
  },
  {
   "cell_type": "markdown",
   "metadata": {},
   "source": [
    "What is the average income of females and males respectively? \n",
    "\n",
    "```python\n",
    "df[df['column_we_know'] == 'value_we_know']['column_we_want']\n",
    "```"
   ]
  },
  {
   "cell_type": "code",
   "execution_count": 228,
   "metadata": {},
   "outputs": [
    {
     "data": {
      "text/plain": [
       "count      21017.000000\n",
       "mean       12104.577675\n",
       "std        77326.303858\n",
       "min           -1.000000\n",
       "25%           -1.000000\n",
       "50%           -1.000000\n",
       "75%           -1.000000\n",
       "max      1000000.000000\n",
       "Name: income, dtype: float64"
      ]
     },
     "execution_count": 228,
     "metadata": {},
     "output_type": "execute_result"
    }
   ],
   "source": [
    "all_data[all_data['sex']=='f']['income'].describe()"
   ]
  },
  {
   "cell_type": "code",
   "execution_count": 229,
   "metadata": {},
   "outputs": [
    {
     "data": {
      "text/plain": [
       "count      30511.000000\n",
       "mean       27564.064239\n",
       "std       112122.036999\n",
       "min           -1.000000\n",
       "25%           -1.000000\n",
       "50%           -1.000000\n",
       "75%        20000.000000\n",
       "max      1000000.000000\n",
       "Name: income, dtype: float64"
      ]
     },
     "execution_count": 229,
     "metadata": {},
     "output_type": "execute_result"
    }
   ],
   "source": [
    "all_data[all_data['sex']=='m']['income'].describe()"
   ]
  },
  {
   "cell_type": "markdown",
   "metadata": {},
   "source": [
    "## Exploratory Analysis\n",
    "\n",
    "Let's investigate some of the different features to see what might correlate most with our dependent variable, the `income`. The features with the best correlations could prove to be the most helpful for our Linear Regression model! "
   ]
  },
  {
   "cell_type": "code",
   "execution_count": 230,
   "metadata": {
    "scrolled": true
   },
   "outputs": [
    {
     "data": {
      "text/plain": [
       "age               -0.000736\n",
       "height             0.066504\n",
       "income             1.000000\n",
       "gender_code       -0.076203\n",
       "essay_ave_len      0.008410\n",
       "state_code        -0.003715\n",
       "job_status_code    0.006826\n",
       "education_level   -0.052510\n",
       "drinks_code        0.043189\n",
       "Name: income, dtype: float64"
      ]
     },
     "execution_count": 230,
     "metadata": {},
     "output_type": "execute_result"
    }
   ],
   "source": [
    "all_data.corr()['income']"
   ]
  },
  {
   "cell_type": "code",
   "execution_count": 231,
   "metadata": {},
   "outputs": [],
   "source": [
    "correlation=all_data.corr()['income']"
   ]
  },
  {
   "cell_type": "code",
   "execution_count": 232,
   "metadata": {},
   "outputs": [
    {
     "data": {
      "text/plain": [
       "[('income', 1.0),\n",
       " ('gender_code', -0.076203017601154),\n",
       " ('height', 0.06650448229204804),\n",
       " ('education_level', -0.0525100512892988),\n",
       " ('drinks_code', 0.043188895367804014),\n",
       " ('essay_ave_len', 0.008409571460730797),\n",
       " ('job_status_code', 0.006825694676601756),\n",
       " ('state_code', -0.003714801363616364),\n",
       " ('age', -0.000735972383885734)]"
      ]
     },
     "execution_count": 232,
     "metadata": {},
     "output_type": "execute_result"
    }
   ],
   "source": [
    "sorted(list(correlation.items()),key = lambda x: abs(x[1]), reverse=True)"
   ]
  },
  {
   "cell_type": "markdown",
   "metadata": {},
   "source": [
    "## Data Selection\n",
    "\n",
    "In order to put our data into a Linear Regression model, we need to separate out our features to model on."
   ]
  },
  {
   "cell_type": "code",
   "execution_count": 233,
   "metadata": {
    "ExecuteTime": {
     "end_time": "2018-09-14T14:51:57.953014Z",
     "start_time": "2018-09-14T14:51:57.945658Z"
    }
   },
   "outputs": [],
   "source": [
    "features=all_data[['gender_code', 'education_level']]\n",
    "income=all_data['income']"
   ]
  },
  {
   "cell_type": "code",
   "execution_count": 234,
   "metadata": {},
   "outputs": [
    {
     "data": {
      "text/plain": [
       "LinearRegression(copy_X=True, fit_intercept=True, n_jobs=1, normalize=False)"
      ]
     },
     "execution_count": 234,
     "metadata": {},
     "output_type": "execute_result"
    }
   ],
   "source": [
    "## Split the Data into Training and Testing Sets\n",
    "from sklearn.model_selection import train_test_split\n",
    "from sklearn.linear_model import LinearRegression\n",
    "\n",
    "X_train, X_test, y_train, y_test = train_test_split(features, \n",
    "                                                    income, \n",
    "                                                    train_size = 0.8,\n",
    "                                                    test_size = 0.2,\n",
    "                                                    random_state=1)\n",
    "\n",
    "## Create and Train the Model\n",
    "model=LinearRegression()\n",
    "model.fit(X_train, y_train)\n"
   ]
  },
  {
   "cell_type": "markdown",
   "metadata": {},
   "source": [
    "## Evaluate and Understand the Model\n",
    "\n",
    "Now we can evaluate our model in a variety of ways."
   ]
  },
  {
   "cell_type": "code",
   "execution_count": 235,
   "metadata": {
    "ExecuteTime": {
     "end_time": "2018-09-14T14:51:58.631827Z",
     "start_time": "2018-09-14T14:51:58.619225Z"
    }
   },
   "outputs": [
    {
     "data": {
      "text/plain": [
       "0.007923178845932743"
      ]
     },
     "execution_count": 235,
     "metadata": {},
     "output_type": "execute_result"
    }
   ],
   "source": [
    "model.score(X_train, y_train)"
   ]
  },
  {
   "cell_type": "code",
   "execution_count": 236,
   "metadata": {},
   "outputs": [
    {
     "data": {
      "text/plain": [
       "0.007676604347903515"
      ]
     },
     "execution_count": 236,
     "metadata": {},
     "output_type": "execute_result"
    }
   ],
   "source": [
    "model.score(X_test, y_test)"
   ]
  },
  {
   "cell_type": "markdown",
   "metadata": {},
   "source": [
    "# We can take a look at the coefficients on our different features! The following is a list of our features with the coefficients and sorts them in descending order from most predictive to least predictive."
   ]
  },
  {
   "cell_type": "code",
   "execution_count": 237,
   "metadata": {
    "scrolled": true
   },
   "outputs": [
    {
     "data": {
      "text/plain": [
       "[('gender_code', -15141.210630850219), ('education_level', -3343.895436252767)]"
      ]
     },
     "execution_count": 237,
     "metadata": {},
     "output_type": "execute_result"
    }
   ],
   "source": [
    "sorted(list(zip(['gender_code', 'education_level'],model.coef_)),key = lambda x: abs(x[1]),reverse=True)\n"
   ]
  },
  {
   "cell_type": "code",
   "execution_count": 238,
   "metadata": {},
   "outputs": [
    {
     "data": {
      "text/plain": [
       "array([-15141.21063085,  -3343.89543625])"
      ]
     },
     "execution_count": 238,
     "metadata": {},
     "output_type": "execute_result"
    }
   ],
   "source": [
    "model.coef_"
   ]
  },
  {
   "cell_type": "markdown",
   "metadata": {},
   "source": [
    "# Lastly we can calculate the predicted incomes for our testing data and compare them to their actual incomes! "
   ]
  },
  {
   "cell_type": "code",
   "execution_count": 239,
   "metadata": {
    "ExecuteTime": {
     "end_time": "2018-09-14T14:51:58.656842Z",
     "start_time": "2018-09-14T14:51:58.653453Z"
    }
   },
   "outputs": [],
   "source": [
    "y_predicted=model.predict(X_test)"
   ]
  },
  {
   "cell_type": "code",
   "execution_count": 240,
   "metadata": {},
   "outputs": [
    {
     "data": {
      "image/png": "[encoded data removed]",
      "text/plain": [
       "<Figure size 432x288 with 1 Axes>"
      ]
     },
     "metadata": {},
     "output_type": "display_data"
    }
   ],
   "source": [
    "from matplotlib import pyplot as plt\n",
    "\n",
    "plt.scatter(y_test, y_predicted)\n",
    "plt.xlabel('y_test')\n",
    "plt.ylabel('y_predicted')\n",
    "plt.show()"
   ]
  },
  {
   "cell_type": "markdown",
   "metadata": {},
   "source": [
    " For a perfect linear regression model we would expect to see the data plotted along the line `y = x`, indicating homoscedasticity. \n",
    " In this case, it is not. We call this model heteroscedastic. "
   ]
  },
  {
   "cell_type": "markdown",
   "metadata": {},
   "source": [
    "## Define Different Subsets of Data\n",
    "\n",
    "After evaluating the first model, we see that `gender_code` and `education_level` alone are not the best predictors for heights. Let's go do some more modeling with different subsets of features and see if we can achieve a more accurate model!"
   ]
  },
  {
   "cell_type": "code",
   "execution_count": 241,
   "metadata": {},
   "outputs": [],
   "source": [
    "# subset of all features that have a response range [0,1]\n",
    "binary_features = ['gender_code']\n",
    "\n",
    "# subset of all features that vary on a greater range than [0,1]\n",
    "numeric_features = ['height','education_level', 'drinks_code', \n",
    "                    'job_status_code', 'age', \n",
    "                    'essay_ave_len', 'state_code']\n",
    "# all features\n",
    "all_features = binary_features + numeric_features\n",
    "\n",
    "# top 3 features with high correlation with income\n",
    "feature_subset =  ['gender_code', 'height', 'education_level']\n",
    "\n",
    "# features with correlation above 0.01\n",
    "feature_subset2=['gender_code', 'height','education_level', 'drinks_code']"
   ]
  },
  {
   "cell_type": "markdown",
   "metadata": {},
   "source": [
    "## Further Modeling"
   ]
  },
  {
   "cell_type": "markdown",
   "metadata": {},
   "source": [
    "Now that we have lists of different feature subsets, we can create new models from them. In order to more easily compare the performance of these new models, we have created a function for you below called `model_these_features()`. This function replicates the model building process you just completed with our first model! Take some time to review how the function works, analyzing it line by line. Fill in the empty comments with an explanation of the task the code beneath it is performing."
   ]
  },
  {
   "cell_type": "code",
   "execution_count": 242,
   "metadata": {},
   "outputs": [],
   "source": [
    "import numpy as np\n",
    "\n",
    "# take a list of features to model as a parameter\n",
    "def model_these_features(feature_to_predict, feature_list):\n",
    "    \n",
    "    # define ratings and features, with the features limited to our chosen subset of data\n",
    "\n",
    "    to_predict = all_data.loc[:,feature_to_predict]\n",
    "    features = all_data.loc[:,feature_list]\n",
    "    \n",
    "    # perform train, test, split on the data\n",
    "    X_train, X_test, y_train, y_test = train_test_split(features, to_predict, test_size = 0.2, random_state = 1)\n",
    "    \n",
    "    # don't worry too much about these lines, just know that they allow the model to work when\n",
    "    # we model on just one feature instead of multiple features. Trust us on this one :)\n",
    "    if len(X_train.shape) < 2:\n",
    "        X_train = np.array(X_train).reshape(-1,1)\n",
    "        X_test = np.array(X_test).reshape(-1,1)\n",
    "    \n",
    "    # create and fit the model to the training data\n",
    "    model = LinearRegression()\n",
    "    model.fit(X_train,y_train)\n",
    "    \n",
    "   # print the train and test scores\n",
    "    print('Train Score:', model.score(X_train,y_train))\n",
    "    print('Test Score:', model.score(X_test,y_test))\n",
    "    \n",
    "    # print the model features and their corresponding coefficients, from most predictive to least predictive\n",
    "    print(sorted(list(zip(feature_list,model.coef_)),key = lambda x: abs(x[1]),reverse=True))\n",
    "    \n",
    "    # calculate the predicted Yelp ratings from the test data\n",
    "    y_predicted = model.predict(X_test)\n",
    "    \n",
    "    # plot the actual Yelp Ratings vs the predicted Yelp ratings for the test data\n",
    "    plt.scatter(y_test,y_predicted)\n",
    "    plt.xlabel(feature_to_predict)\n",
    "    plt.ylabel('Predicted'+ feature_to_predict)\n",
    "    \n",
    "    plt.show()"
   ]
  },
  {
   "cell_type": "code",
   "execution_count": 243,
   "metadata": {},
   "outputs": [
    {
     "name": "stdout",
     "output_type": "stream",
     "text": [
      "Train Score: 0.006242377102086195\n",
      "Test Score: 0.004057631870889922\n",
      "[('gender_code', -15795.945119311475)]\n"
     ]
    },
    {
     "data": {
      "image/png": "[encoded data removed]",
      "text/plain": [
       "<Figure size 432x288 with 1 Axes>"
      ]
     },
     "metadata": {},
     "output_type": "display_data"
    }
   ],
   "source": [
    "model_these_features('income', binary_features)"
   ]
  },
  {
   "cell_type": "code",
   "execution_count": 244,
   "metadata": {},
   "outputs": [
    {
     "name": "stdout",
     "output_type": "stream",
     "text": [
      "Train Score: 0.008330612491716294\n",
      "Test Score: 0.01145727871662483\n",
      "[('drinks_code', 5720.028675709022), ('education_level', -4145.559360111984), ('height', 1530.6196176240396), ('job_status_code', 899.6486438362446), ('state_code', -763.3583909795452), ('age', 187.20625172769934), ('essay_ave_len', 5.3905925628484335)]\n"
     ]
    },
    {
     "data": {
      "image/png": "[encoded data removed]",
      "text/plain": [
       "<Figure size 432x288 with 1 Axes>"
      ]
     },
     "metadata": {},
     "output_type": "display_data"
    }
   ],
   "source": [
    "model_these_features('income', numeric_features)"
   ]
  },
  {
   "cell_type": "code",
   "execution_count": 245,
   "metadata": {},
   "outputs": [
    {
     "name": "stdout",
     "output_type": "stream",
     "text": [
      "Train Score: 0.010448126913540356\n",
      "Test Score: 0.011539932578074286\n",
      "[('gender_code', -12212.88829795847), ('drinks_code', 5887.915168725661), ('education_level', -3913.4028028192297), ('job_status_code', 824.0545666390291), ('state_code', -719.49631339124), ('height', 545.8442281242237), ('age', 199.46462004908398), ('essay_ave_len', 5.573748122198177)]\n"
     ]
    },
    {
     "data": {
      "image/png": "[encoded data removed]",
      "text/plain": [
       "<Figure size 432x288 with 1 Axes>"
      ]
     },
     "metadata": {},
     "output_type": "display_data"
    }
   ],
   "source": [
    "model_these_features('income', all_features)"
   ]
  },
  {
   "cell_type": "code",
   "execution_count": 246,
   "metadata": {},
   "outputs": [
    {
     "name": "stdout",
     "output_type": "stream",
     "text": [
      "Train Score: 0.008276362558189643\n",
      "Test Score: 0.008594499128849464\n",
      "[('gender_code', -11879.558448709242), ('education_level', -3356.2606803384015), ('height', 613.9586509266325)]\n"
     ]
    },
    {
     "data": {
      "image/png": "[encoded data removed]",
      "text/plain": [
       "<Figure size 432x288 with 1 Axes>"
      ]
     },
     "metadata": {},
     "output_type": "display_data"
    }
   ],
   "source": [
    "model_these_features('income', feature_subset)"
   ]
  },
  {
   "cell_type": "code",
   "execution_count": 247,
   "metadata": {
    "scrolled": true
   },
   "outputs": [
    {
     "name": "stdout",
     "output_type": "stream",
     "text": [
      "Train Score: 0.009801162760960436\n",
      "Test Score: 0.011119712194645024\n",
      "[('gender_code', -12103.436053738304), ('drinks_code', 5522.1640562426055), ('education_level', -3376.971511104213), ('height', 559.3558757968922)]\n"
     ]
    },
    {
     "data": {
      "image/png": "[encoded data removed]",
      "text/plain": [
       "<Figure size 432x288 with 1 Axes>"
      ]
     },
     "metadata": {},
     "output_type": "display_data"
    }
   ],
   "source": [
    "model_these_features('income', feature_subset2)"
   ]
  },
  {
   "cell_type": "markdown",
   "metadata": {},
   "source": [
    "# It appears that all of our regression model has weak score.\n",
    "# We can conclude that our features are not sufficient to model income with reasonable accuracy."
   ]
  }
 ],
 "metadata": {
  "kernelspec": {
   "display_name": "Python 3",
   "language": "python",
   "name": "python3"
  },
  "language_info": {
   "codemirror_mode": {
    "name": "ipython",
    "version": 3
   },
   "file_extension": ".py",
   "mimetype": "text/x-python",
   "name": "python",
   "nbconvert_exporter": "python",
   "pygments_lexer": "ipython3",
   "version": "3.6.4"
  }
 },
 "nbformat": 4,
 "nbformat_minor": 2
}
