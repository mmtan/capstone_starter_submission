{
 "cells": [
  {
   "cell_type": "markdown",
   "metadata": {},
   "source": [
    "# Load in the DataFrame"
   ]
  },
  {
   "cell_type": "code",
   "execution_count": 49,
   "metadata": {},
   "outputs": [],
   "source": [
    "import pandas as pd\n",
    "import numpy as np\n",
    "from matplotlib import pyplot as plt\n",
    "import pandas as pd\n",
    "\n",
    "#Create your df here:\n",
    "df = pd.read_csv(\"profiles.csv\")"
   ]
  },
  {
   "cell_type": "markdown",
   "metadata": {},
   "source": [
    "# Explore the data"
   ]
  },
  {
   "cell_type": "code",
   "execution_count": 50,
   "metadata": {},
   "outputs": [
    {
     "data": {
      "text/plain": [
       "Index(['age', 'body_type', 'diet', 'drinks', 'drugs', 'education', 'essay0',\n",
       "       'essay1', 'essay2', 'essay3', 'essay4', 'essay5', 'essay6', 'essay7',\n",
       "       'essay8', 'essay9', 'ethnicity', 'height', 'income', 'job',\n",
       "       'last_online', 'location', 'offspring', 'orientation', 'pets',\n",
       "       'religion', 'sex', 'sign', 'smokes', 'speaks', 'status'],\n",
       "      dtype='object')"
      ]
     },
     "execution_count": 50,
     "metadata": {},
     "output_type": "execute_result"
    }
   ],
   "source": [
    "df.columns"
   ]
  },
  {
   "cell_type": "code",
   "execution_count": 51,
   "metadata": {
    "scrolled": true
   },
   "outputs": [
    {
     "data": {
      "text/plain": [
       "graduated from college/university    23959\n",
       "graduated from masters program        8961\n",
       "working on college/university         5712\n",
       "working on masters program            1683\n",
       "graduated from two-year college       1531\n",
       "graduated from high school            1428\n",
       "graduated from ph.d program           1272\n",
       "graduated from law school             1122\n",
       "working on two-year college           1074\n",
       "dropped out of college/university      995\n",
       "working on ph.d program                983\n",
       "college/university                     801\n",
       "graduated from space camp              657\n",
       "dropped out of space camp              523\n",
       "graduated from med school              446\n",
       "working on space camp                  445\n",
       "working on law school                  269\n",
       "two-year college                       222\n",
       "working on med school                  212\n",
       "dropped out of two-year college        191\n",
       "dropped out of masters program         140\n",
       "masters program                        136\n",
       "dropped out of ph.d program            127\n",
       "dropped out of high school             102\n",
       "high school                             96\n",
       "working on high school                  87\n",
       "space camp                              58\n",
       "ph.d program                            26\n",
       "law school                              19\n",
       "dropped out of law school               18\n",
       "dropped out of med school               12\n",
       "med school                              11\n",
       "Name: education, dtype: int64"
      ]
     },
     "execution_count": 51,
     "metadata": {},
     "output_type": "execute_result"
    }
   ],
   "source": [
    "df.education.value_counts()"
   ]
  },
  {
   "cell_type": "code",
   "execution_count": 52,
   "metadata": {},
   "outputs": [
    {
     "data": {
      "text/plain": [
       "-1          48442\n",
       " 20000       2952\n",
       " 100000      1621\n",
       " 80000       1111\n",
       " 30000       1048\n",
       " 40000       1005\n",
       " 50000        975\n",
       " 60000        736\n",
       " 70000        707\n",
       " 150000       631\n",
       " 1000000      521\n",
       " 250000       149\n",
       " 500000        48\n",
       "Name: income, dtype: int64"
      ]
     },
     "execution_count": 52,
     "metadata": {},
     "output_type": "execute_result"
    }
   ],
   "source": [
    "df.income.value_counts()"
   ]
  },
  {
   "cell_type": "markdown",
   "metadata": {},
   "source": [
    "# Question: Can we predict education level with income and average length of essays?"
   ]
  },
  {
   "cell_type": "markdown",
   "metadata": {},
   "source": [
    "# Augment Data"
   ]
  },
  {
   "cell_type": "code",
   "execution_count": 54,
   "metadata": {},
   "outputs": [],
   "source": [
    "essay_cols = [\"essay0\",\"essay1\",\"essay2\",\"essay3\",\"essay4\",\n",
    "              \"essay5\",\"essay6\",\"essay7\",\"essay8\",\"essay9\"]\n",
    "# removing the nan  in essay_cols\n",
    "df[essay_cols] = df[essay_cols].replace(np.nan, '', regex=True)"
   ]
  },
  {
   "cell_type": "code",
   "execution_count": 55,
   "metadata": {},
   "outputs": [],
   "source": [
    "# combine the essays\n",
    "all_essays = df[essay_cols].apply(lambda x: ' '.join(x), axis=1)\n",
    "# create a column to store the average length of essays\n",
    "df['essay_ave_len'] = all_essays.apply(lambda x: len(x)/len(essay_cols))\n"
   ]
  },
  {
   "cell_type": "markdown",
   "metadata": {},
   "source": [
    "# Define Education levels\n",
    "\n",
    "We will regroup education levels to the following categories: \n",
    "* Post graduate degree\n",
    "* College graduate       \n",
    "* Some college            \n",
    "* High school or less  "
   ]
  },
  {
   "cell_type": "code",
   "execution_count": 56,
   "metadata": {},
   "outputs": [],
   "source": [
    "post_graduate=['graduated from masters program', \n",
    "              'graduated from ph.d program',\n",
    "              ]"
   ]
  },
  {
   "cell_type": "code",
   "execution_count": 57,
   "metadata": {},
   "outputs": [],
   "source": [
    "college_graduate=['graduated from college/university',\n",
    "                  'working on masters program',\n",
    "                  'graduated from two-year college',\n",
    "                  'working on ph.d program',\n",
    "                  'dropped out of masters program',\n",
    "                  'masters program',\n",
    "                  'dropped out of ph.d program',\n",
    "                  'ph.d program',\n",
    "                  'graduated from law school',\n",
    "                   'graduated from med school',\n",
    "                  \n",
    "                 ]"
   ]
  },
  {
   "cell_type": "code",
   "execution_count": 58,
   "metadata": {},
   "outputs": [],
   "source": [
    "some_college=['working on college/university',\n",
    "             'working on two-year college',\n",
    "              'college/university',\n",
    "              'working on law school',\n",
    "              'two-year college',\n",
    "              'working on med school',\n",
    "              'law school',\n",
    "              'med school'\n",
    "             ]"
   ]
  },
  {
   "cell_type": "code",
   "execution_count": 59,
   "metadata": {},
   "outputs": [],
   "source": [
    "high_school_or_less=['graduated from high school',\n",
    "                    'dropped out of college/university',\n",
    "                    'graduated from space camp',\n",
    "                     'dropped out of space camp',\n",
    "                     'working on space camp',\n",
    "                     'dropped out of two-year college',\n",
    "                     'dropped out of high school',\n",
    "                     'high school',\n",
    "                     'working on high school',\n",
    "                     'space camp',\n",
    "                     'dropped out of law school',\n",
    "                     'dropped out of med school'\n",
    "                     \n",
    "                    ]"
   ]
  },
  {
   "cell_type": "code",
   "execution_count": 60,
   "metadata": {},
   "outputs": [],
   "source": [
    "education_mapping = {}\n",
    "for x in post_graduate: \n",
    "    education_mapping[x]=3\n",
    "for x in college_graduate: \n",
    "    education_mapping[x]=2 \n",
    "for x in some_college:\n",
    "    education_mapping[x]=1\n",
    "for x in high_school_or_less: \n",
    "    education_mapping[x]=0"
   ]
  },
  {
   "cell_type": "code",
   "execution_count": 61,
   "metadata": {},
   "outputs": [],
   "source": [
    "df[\"education_level\"] = df.education.map(education_mapping)"
   ]
  },
  {
   "cell_type": "code",
   "execution_count": 62,
   "metadata": {},
   "outputs": [
    {
     "data": {
      "text/plain": [
       "2.0    30153\n",
       "3.0    10233\n",
       "1.0     8320\n",
       "0.0     4612\n",
       "Name: education_level, dtype: int64"
      ]
     },
     "execution_count": 62,
     "metadata": {},
     "output_type": "execute_result"
    }
   ],
   "source": [
    "df.education_level.value_counts()"
   ]
  },
  {
   "cell_type": "markdown",
   "metadata": {},
   "source": [
    "# Define do_smoke"
   ]
  },
  {
   "cell_type": "code",
   "execution_count": 63,
   "metadata": {},
   "outputs": [],
   "source": [
    "do_smoke_mapping = {\"no\": 0, \"sometimes\": 1, \"when drinking\": 1, \n",
    "                  \"yes\": 1, \"trying to quit\": 1}\n",
    "df[\"do_smoke\"] = df.smokes.map(do_smoke_mapping)"
   ]
  },
  {
   "cell_type": "markdown",
   "metadata": {},
   "source": [
    "# Define do_drug"
   ]
  },
  {
   "cell_type": "code",
   "execution_count": 64,
   "metadata": {},
   "outputs": [],
   "source": [
    "do_drug_mapping = {\"never\": 0, \"sometimes\": 1, \"often\": 1}\n",
    "df[\"do_drug\"] = df.drugs.map(do_drug_mapping)"
   ]
  },
  {
   "cell_type": "code",
   "execution_count": 65,
   "metadata": {},
   "outputs": [],
   "source": [
    "# Define do_smoke\n",
    "\n",
    "do_smoke_mapping = {\"no\": 0, \"sometimes\": 1, \"when drinking\": 1, \n",
    "                  \"yes\": 1, \"trying to quit\": 1}\n",
    "df[\"do_smoke\"] = df.smokes.map(do_smoke_mapping)\n",
    "\n",
    "# Define do_drug\n",
    "\n",
    "do_drug_mapping = {\"never\": 0, \"sometimes\": 1, \"often\": 1}\n",
    "df[\"do_drug\"] = df.drugs.map(do_drug_mapping)"
   ]
  },
  {
   "cell_type": "markdown",
   "metadata": {},
   "source": [
    "# Mapping of status"
   ]
  },
  {
   "cell_type": "code",
   "execution_count": 104,
   "metadata": {},
   "outputs": [],
   "source": [
    "df['status_code']=df.status.map({'single':0, 'seeing someone':1, \n",
    "                                'available':2,\n",
    "                                'married':3})"
   ]
  },
  {
   "cell_type": "markdown",
   "metadata": {},
   "source": [
    "# Drop NA"
   ]
  },
  {
   "cell_type": "code",
   "execution_count": 100,
   "metadata": {},
   "outputs": [],
   "source": [
    "all_data=df.dropna(subset=['education_level', 'income'])"
   ]
  },
  {
   "cell_type": "markdown",
   "metadata": {},
   "source": [
    "# Plot the Data"
   ]
  },
  {
   "cell_type": "code",
   "execution_count": 67,
   "metadata": {},
   "outputs": [],
   "source": [
    "education_level=all_data['education_level'].tolist()"
   ]
  },
  {
   "cell_type": "code",
   "execution_count": 68,
   "metadata": {},
   "outputs": [
    {
     "data": {
      "image/png": "[encoded data removed]",
      "text/plain": [
       "<Figure size 432x288 with 1 Axes>"
      ]
     },
     "metadata": {},
     "output_type": "display_data"
    }
   ],
   "source": [
    "from matplotlib import pyplot as plt\n",
    "plt.scatter(all_data['essay_ave_len'],all_data['income'], alpha=0.1,c=education_level)\n",
    "plt.xlabel(\"Average length of essays\")\n",
    "plt.ylabel(\"Income\")\n",
    "plt.title('Income versus Average Length of Essays')\n",
    "plt.show()"
   ]
  },
  {
   "cell_type": "code",
   "execution_count": 69,
   "metadata": {},
   "outputs": [
    {
     "data": {
      "image/png": "[encoded data removed]",
      "text/plain": [
       "<Figure size 432x288 with 1 Axes>"
      ]
     },
     "metadata": {},
     "output_type": "display_data"
    }
   ],
   "source": [
    "from matplotlib import pyplot as plt\n",
    "plt.scatter(all_data['income'],all_data['education_level'], alpha=0.1)\n",
    "plt.xlabel(\"Income\")\n",
    "plt.ylabel(\"Education Level\")\n",
    "plt.title('Income versus Education Level')\n",
    "plt.show()"
   ]
  },
  {
   "cell_type": "code",
   "execution_count": 70,
   "metadata": {},
   "outputs": [],
   "source": [
    "# Find the data of percentage of smoking and drug usage among \n",
    "# different categories of educational levels\n",
    "education_level_smokes_data=[]\n",
    "education_level_drugs_data=[]\n",
    "\n",
    "for i in range(4): \n",
    "    specified_data=all_data.loc[all_data[\"education_level\"]==i]\n",
    "    do_smoke=specified_data.do_smoke.value_counts().tolist()\n",
    "    do_drug=specified_data.do_drug.value_counts().tolist()\n",
    "    \n",
    "    education_level_smokes_data.append(do_smoke)\n",
    "    education_level_drugs_data.append(do_drug)\n",
    "    \n",
    "education_level_smokes_data_percentage=[]\n",
    "for x in education_level_smokes_data: \n",
    "    total=sum(x)\n",
    "    education_level_smokes_data_percentage.append(\n",
    "    [y/total*100 for y in x])\n",
    "    \n",
    "education_level_drugs_data_percentage=[]\n",
    "for x in education_level_drugs_data: \n",
    "    total=sum(x)\n",
    "    education_level_drugs_data_percentage.append(\n",
    "    [y/total*100 for y in x])"
   ]
  },
  {
   "cell_type": "code",
   "execution_count": 71,
   "metadata": {},
   "outputs": [
    {
     "data": {
      "image/png": "[encoded data removed]",
      "text/plain": [
       "<Figure size 432x288 with 1 Axes>"
      ]
     },
     "metadata": {},
     "output_type": "display_data"
    }
   ],
   "source": [
    "import numpy as np\n",
    "import matplotlib.pyplot as plt\n",
    "\n",
    "# data to plot\n",
    "n_groups = 4\n",
    "percentage_smokes = [x[1] for x in education_level_smokes_data_percentage]\n",
    "percentage_drugs = [x[1] for x in education_level_drugs_data_percentage]\n",
    "\n",
    "# create plot\n",
    "fig, ax = plt.subplots()\n",
    "index = np.arange(n_groups)\n",
    "bar_width = 0.35\n",
    "opacity = 0.8\n",
    "\n",
    "rects1 = plt.bar(index,percentage_smokes, bar_width,\n",
    "alpha=opacity,\n",
    "color='y',\n",
    "label='Do smoke')\n",
    "\n",
    "rects2 = plt.bar(index + bar_width, percentage_drugs, bar_width,\n",
    "alpha=opacity,\n",
    "color='b',\n",
    "label='Do drugs')\n",
    "\n",
    "plt.xlabel('Education Level')\n",
    "plt.ylabel('Percentage')\n",
    "plt.title('Percentage of Smoking and Drug Usage')\n",
    "plt.xticks(index + bar_width, ('High School or Less', \n",
    "                               'Some College', \n",
    "                               'College Graduate',\n",
    "                               'Post Graduate'))\n",
    "plt.legend()\n",
    "\n",
    "plt.tight_layout()\n",
    "plt.show()"
   ]
  },
  {
   "cell_type": "markdown",
   "metadata": {},
   "source": [
    "# Normalize The Data"
   ]
  },
  {
   "cell_type": "code",
   "execution_count": 72,
   "metadata": {},
   "outputs": [],
   "source": [
    "from sklearn.preprocessing import scale\n",
    "labels=all_data['education_level']\n",
    "data=all_data[['essay_ave_len', 'income']]\n",
    "scaled_data=scale(data, axis=0)"
   ]
  },
  {
   "cell_type": "markdown",
   "metadata": {},
   "source": [
    "# Create the Training Set and Test Set"
   ]
  },
  {
   "cell_type": "code",
   "execution_count": 73,
   "metadata": {},
   "outputs": [],
   "source": [
    "from sklearn.model_selection import train_test_split\n",
    "train_data, test_data, train_labels, test_labels = train_test_split(\n",
    "scaled_data, labels, test_size=0.2, random_state=1)"
   ]
  },
  {
   "cell_type": "markdown",
   "metadata": {},
   "source": [
    "# Using the Classifier"
   ]
  },
  {
   "cell_type": "code",
   "execution_count": 74,
   "metadata": {},
   "outputs": [
    {
     "name": "stdout",
     "output_type": "stream",
     "text": [
      "0.4789947486871718\n",
      "0.5834857223238149\n"
     ]
    }
   ],
   "source": [
    "from sklearn.neighbors import KNeighborsClassifier\n",
    "classifier=KNeighborsClassifier(n_neighbors=5)\n",
    "classifier.fit(train_data, train_labels)\n",
    "print(classifier.score(test_data, test_labels))\n",
    "print(classifier.score(train_data,train_labels))"
   ]
  },
  {
   "cell_type": "markdown",
   "metadata": {},
   "source": [
    "# Choosing K\n",
    "\n",
    "We've tested our classifier with `k = 5`, but maybe there's a `k` that will work better. Let's test many different values for `k` and graph the results. "
   ]
  },
  {
   "cell_type": "code",
   "execution_count": 82,
   "metadata": {},
   "outputs": [],
   "source": [
    "import matplotlib.pyplot as plt\n",
    "max_score=0\n",
    "max_k=0\n",
    "scores=[]\n",
    "for k in range(1,100):\n",
    "    classifier=KNeighborsClassifier(n_neighbors=k)\n",
    "    classifier.fit(train_data, train_labels)\n",
    "    score=classifier.score(test_data, test_labels)\n",
    "    scores.append(score)\n",
    "    if score>max_score: \n",
    "        max_score=score\n",
    "        max_k=k"
   ]
  },
  {
   "cell_type": "code",
   "execution_count": 83,
   "metadata": {},
   "outputs": [
    {
     "data": {
      "text/plain": [
       "(0.5671417854463616, 42)"
      ]
     },
     "execution_count": 83,
     "metadata": {},
     "output_type": "execute_result"
    }
   ],
   "source": [
    "max_score, max_k"
   ]
  },
  {
   "cell_type": "code",
   "execution_count": 102,
   "metadata": {
    "scrolled": true
   },
   "outputs": [
    {
     "data": {
      "image/png": "[encoded data removed]",
      "text/plain": [
       "<Figure size 432x288 with 1 Axes>"
      ]
     },
     "metadata": {},
     "output_type": "display_data"
    }
   ],
   "source": [
    "plt.plot(range(1,100), scores)\n",
    "plt.xlabel(\"n_neigbours\")\n",
    "plt.ylabel(\"score of the classifier\")\n",
    "plt.show()"
   ]
  },
  {
   "cell_type": "markdown",
   "metadata": {},
   "source": [
    "# Explore different combinations of features from income, essay_ave_len, do_smoke and do_drug"
   ]
  },
  {
   "cell_type": "code",
   "execution_count": 29,
   "metadata": {},
   "outputs": [],
   "source": [
    "from sklearn.preprocessing import scale\n",
    "from sklearn.model_selection import train_test_split\n",
    "from sklearn.neighbors import KNeighborsClassifier\n",
    "import matplotlib.pyplot as plt"
   ]
  },
  {
   "cell_type": "code",
   "execution_count": null,
   "metadata": {},
   "outputs": [],
   "source": [
    "              \n",
    "def cluster_with_feature(labels, data):\n",
    "    \n",
    "    scaled_data=scale(data, axis=0)\n",
    "\n",
    "\n",
    "    train_data, test_data, train_labels, test_labels = train_test_split(\n",
    "    scaled_data, labels, test_size=0.2, random_state=1)\n",
    "\n",
    "\n",
    "    max_score=0\n",
    "    max_k=0\n",
    "    for k in range(1,100,5):\n",
    "        classifier=KNeighborsClassifier(n_neighbors=k)\n",
    "        classifier.fit(train_data, train_labels)\n",
    "        score=classifier.score(test_data, test_labels)\n",
    "        if score>max_score:\n",
    "            max_score=score\n",
    "            max_k=k\n",
    "    return max_score, max_k"
   ]
  },
  {
   "cell_type": "code",
   "execution_count": 101,
   "metadata": {},
   "outputs": [
    {
     "data": {
      "text/plain": [
       "(0.5671417854463616, 42)"
      ]
     },
     "execution_count": 101,
     "metadata": {},
     "output_type": "execute_result"
    }
   ],
   "source": [
    "all_data=df.dropna(subset=['education_level', 'income', 'essay_ave_len'])\n",
    "labels=all_data['education_level']\n",
    "data=all_data[['income', 'essay_ave_len']]\n",
    "cluster_with_feature(labels, data)"
   ]
  },
  {
   "cell_type": "code",
   "execution_count": 110,
   "metadata": {},
   "outputs": [
    {
     "data": {
      "text/plain": [
       "(0.5679857464366092, 15)"
      ]
     },
     "execution_count": 110,
     "metadata": {},
     "output_type": "execute_result"
    }
   ],
   "source": [
    "all_data=df.dropna(subset=['education_level', 'income'])\n",
    "labels=all_data['education_level']\n",
    "data=all_data[['income']]\n",
    "cluster_with_feature(labels, data)"
   ]
  },
  {
   "cell_type": "code",
   "execution_count": 111,
   "metadata": {},
   "outputs": [
    {
     "data": {
      "text/plain": [
       "(0.5617966991747937, 72)"
      ]
     },
     "execution_count": 111,
     "metadata": {},
     "output_type": "execute_result"
    }
   ],
   "source": [
    "all_data=df.dropna(subset=['education_level', 'essay_ave_len'])\n",
    "labels=all_data['education_level']\n",
    "data=all_data[['essay_ave_len']]\n",
    "cluster_with_feature(labels, data)"
   ]
  },
  {
   "cell_type": "code",
   "execution_count": 112,
   "metadata": {},
   "outputs": [
    {
     "data": {
      "text/plain": [
       "(0.5397981346620672, 5)"
      ]
     },
     "execution_count": 112,
     "metadata": {},
     "output_type": "execute_result"
    }
   ],
   "source": [
    "all_data=df.dropna(subset=['education_level', 'do_smoke', 'do_drug'])\n",
    "labels=all_data['education_level']\n",
    "data=all_data[['do_smoke', 'do_drug']]\n",
    "cluster_with_feature(labels, data)"
   ]
  },
  {
   "cell_type": "code",
   "execution_count": 113,
   "metadata": {},
   "outputs": [
    {
     "data": {
      "text/plain": [
       "(0.5472083812444104, 44)"
      ]
     },
     "execution_count": 113,
     "metadata": {},
     "output_type": "execute_result"
    }
   ],
   "source": [
    "all_data=df.dropna(subset=['education_level', 'do_smoke', 'do_drug', 'income'])\n",
    "labels=all_data['education_level']\n",
    "data=all_data[['do_smoke', 'do_drug', 'income']]\n",
    "cluster_with_feature(labels, data)"
   ]
  },
  {
   "cell_type": "code",
   "execution_count": 114,
   "metadata": {},
   "outputs": [
    {
     "data": {
      "text/plain": [
       "(0.5426089178484732, 83)"
      ]
     },
     "execution_count": 114,
     "metadata": {},
     "output_type": "execute_result"
    }
   ],
   "source": [
    "all_data=df.dropna(subset=['education_level', 'do_smoke', 'do_drug', \n",
    "                           'income', 'essay_ave_len'])\n",
    "labels=all_data['education_level']\n",
    "data=all_data[['do_smoke', 'do_drug', 'income', 'essay_ave_len']]\n",
    "cluster_with_feature(labels, data)"
   ]
  },
  {
   "cell_type": "code",
   "execution_count": 115,
   "metadata": {},
   "outputs": [
    {
     "data": {
      "text/plain": [
       "(0.5630635194002634, 99)"
      ]
     },
     "execution_count": 115,
     "metadata": {},
     "output_type": "execute_result"
    }
   ],
   "source": [
    "all_data=df.dropna(subset=['education_level', 'do_smoke',  \n",
    "                           'income', 'essay_ave_len'])\n",
    "labels=all_data['education_level']\n",
    "data=all_data[['do_smoke', 'income', 'essay_ave_len']]\n",
    "cluster_with_feature(labels, data)"
   ]
  },
  {
   "cell_type": "code",
   "execution_count": 116,
   "metadata": {},
   "outputs": [
    {
     "data": {
      "text/plain": [
       "(0.5592950679231429, 64)"
      ]
     },
     "execution_count": 116,
     "metadata": {},
     "output_type": "execute_result"
    }
   ],
   "source": [
    "all_data=df.dropna(subset=['education_level', 'do_drug',  \n",
    "                           'income', 'essay_ave_len'])\n",
    "labels=all_data['education_level']\n",
    "data=all_data[['do_drug', 'income', 'essay_ave_len']]\n",
    "cluster_with_feature(labels, data)"
   ]
  },
  {
   "cell_type": "code",
   "execution_count": 117,
   "metadata": {},
   "outputs": [
    {
     "data": {
      "text/plain": [
       "(0.5552563945661486, 3)"
      ]
     },
     "execution_count": 117,
     "metadata": {},
     "output_type": "execute_result"
    }
   ],
   "source": [
    "all_data=df.dropna(subset=['education_level', 'do_drug'])\n",
    "labels=all_data['education_level']\n",
    "data=all_data[['do_drug']]\n",
    "cluster_with_feature(labels, data)"
   ]
  },
  {
   "cell_type": "code",
   "execution_count": 118,
   "metadata": {},
   "outputs": [
    {
     "data": {
      "text/plain": [
       "(0.5560733461655354, 4)"
      ]
     },
     "execution_count": 118,
     "metadata": {},
     "output_type": "execute_result"
    }
   ],
   "source": [
    "all_data=df.dropna(subset=['education_level', 'do_smoke'])\n",
    "labels=all_data['education_level']\n",
    "data=all_data[['do_smoke']]\n",
    "cluster_with_feature(labels, data)"
   ]
  },
  {
   "cell_type": "code",
   "execution_count": 107,
   "metadata": {},
   "outputs": [
    {
     "data": {
      "text/plain": [
       "(0.6041822955738935, 69)"
      ]
     },
     "execution_count": 107,
     "metadata": {},
     "output_type": "execute_result"
    }
   ],
   "source": [
    "all_data=df.dropna(subset=['education_level', 'income', 'age'])\n",
    "labels=all_data['education_level']\n",
    "data=all_data[['income','age']]\n",
    "cluster_with_feature(labels, data)"
   ]
  },
  {
   "cell_type": "markdown",
   "metadata": {},
   "source": [
    "# The best score is 0.604 where the feature used to learn the model is income and age. \n",
    "# The accuracy we would expect from predicting a education level by randomly selecting one would be 1/4, which is 0.25. \n",
    "# Our model outperform this number. "
   ]
  }
 ],
 "metadata": {
  "kernelspec": {
   "display_name": "Python 3",
   "language": "python",
   "name": "python3"
  },
  "language_info": {
   "codemirror_mode": {
    "name": "ipython",
    "version": 3
   },
   "file_extension": ".py",
   "mimetype": "text/x-python",
   "name": "python",
   "nbconvert_exporter": "python",
   "pygments_lexer": "ipython3",
   "version": "3.6.4"
  }
 },
 "nbformat": 4,
 "nbformat_minor": 2
}
